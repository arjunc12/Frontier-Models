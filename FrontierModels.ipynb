{
 "cells": [
  {
   "cell_type": "code",
   "execution_count": 1,
   "id": "762379ad-f8c2-4b16-9c7a-5189db2da1a1",
   "metadata": {},
   "outputs": [
    {
     "name": "stdout",
     "output_type": "stream",
     "text": [
      "Python version: 3.11.13 (main, Jun  5 2025, 08:21:08) [Clang 14.0.6 ]\n",
      "pandas version: 2.2.3\n",
      "sympy version: 1.14.0\n",
      "openai version: 1.109.1\n"
     ]
    }
   ],
   "source": [
    "import sys\n",
    "print(\"Python version:\", sys.version)\n",
    "\n",
    "import pandas as pd\n",
    "import sympy\n",
    "import openai\n",
    "\n",
    "print(\"pandas version:\", pd.__version__)\n",
    "print(\"sympy version:\", sympy.__version__)\n",
    "print(\"openai version:\", openai.__version__)"
   ]
  },
  {
   "cell_type": "code",
   "execution_count": 20,
   "id": "b6fcd9ea-d7bf-4ddb-b038-0ce07b3b775d",
   "metadata": {},
   "outputs": [],
   "source": [
    "TEMPERATURE = 0.1\n",
    "MAX_TOKENS = 1000"
   ]
  },
  {
   "cell_type": "code",
   "execution_count": 48,
   "id": "47f2496e-d76e-4767-bd01-181f46505164",
   "metadata": {},
   "outputs": [
    {
     "data": {
      "text/plain": [
       "False"
      ]
     },
     "execution_count": 48,
     "metadata": {},
     "output_type": "execute_result"
    }
   ],
   "source": [
    "\"0.2\".isnumeric()"
   ]
  },
  {
   "cell_type": "code",
   "execution_count": 49,
   "id": "466d458a-efdd-4805-907f-ae607a8a209c",
   "metadata": {},
   "outputs": [],
   "source": [
    "def evaluate_prompt(prompt_text, temperature=TEMPERATURE, max_tokens=MAX_TOKENS):\n",
    "    \"\"\"\n",
    "    Runs a prompt through GPT, prints output, asks for manual score & feedback (0/0.5/1),\n",
    "    and appends a row to a CSV file.\n",
    "    \"\"\"\n",
    "    # Run GPT\n",
    "    try:\n",
    "        response = client.chat.completions.create(\n",
    "            model=\"gpt-3.5-turbo\",\n",
    "            messages=[{\"role\": \"user\", \"content\": prompt_text}],\n",
    "            temperature=0,\n",
    "            max_tokens=500\n",
    "        )\n",
    "        model_output = response.choices[0].message.content\n",
    "    except Exception as e:\n",
    "        model_output = f\"Error: {e}\"\n",
    "\n",
    "    # Print the output\n",
    "    print(\"\\n--- GPT Output ---\")\n",
    "    print(model_output)\n",
    "    print(\"------------------\\n\")\n",
    "\n",
    "    # Ask for score\n",
    "    score = None\n",
    "    while score == None:\n",
    "        score = input(\"Enter score from 0-1: \").strip()\n",
    "        try:\n",
    "            score = float(score)\n",
    "        except ValueError:\n",
    "            print(\"Invalid score. Please enter a number.\")\n",
    "            continue\n",
    "        if score < 0 or score > 1:\n",
    "            print(\"Invalid score. Please enter a number between 0 and 1.\")\n",
    "            score = None\n",
    "\n",
    "    # Ask for feedback\n",
    "    feedback = input(\"Enter feedback / notes: \").strip()\n",
    "\n",
    "    # Append to CSV\n",
    "    df_new = pd.DataFrame([{\n",
    "        \"prompt_text\": prompt_text,\n",
    "        \"model_output\": model_output,\n",
    "        \"score\": float(score),\n",
    "        \"feedback\": feedback,\n",
    "        \"temperature\" : temperature,\n",
    "        \"max tokens\" : max_tokens\n",
    "    }])\n",
    "    \n",
    "    output_file = \"gpt_math_eval.csv\"\n",
    "    df_new.to_csv(output_file, mode='a', header=False, index=False)\n",
    "    print(f\"Entry saved to {output_file}\\n\")"
   ]
  },
  {
   "cell_type": "code",
   "execution_count": 44,
   "id": "0d89cc88-6787-487a-8810-002bd9137f89",
   "metadata": {},
   "outputs": [
    {
     "name": "stdout",
     "output_type": "stream",
     "text": [
      "\n",
      "--- GPT Output ---\n",
      "To solve this problem, we can first parameterize the curve using the equation of a parabola:\n",
      "\n",
      "y = ax^2 + bx + c\n",
      "\n",
      "Since the curve must pass through the point (p, q), we have the following equations:\n",
      "\n",
      "q = ap^2 + bp + c\n",
      "0 = a(0)^2 + b(0) + c\n",
      "\n",
      "Solving the second equation, we get c = 0. Substituting this into the first equation, we get:\n",
      "\n",
      "q = ap^2 + bp\n",
      "\n",
      "Now, we need to find the point on the vertical line that minimizes the cost function. Let's denote this point as (0, y). The distance between (p, q) and (0, y) is given by:\n",
      "\n",
      "distance = sqrt((p-0)^2 + (q-y)^2)\n",
      "         = sqrt(p^2 + (q-y)^2)\n",
      "\n",
      "The conduction delay is then given by:\n",
      "\n",
      "delay = sqrt(p^2 + (q-y)^2) + y\n",
      "\n",
      "The wiring cost is simply y. Therefore, the cost function we want to minimize is:\n",
      "\n",
      "C = αy + (1-α)(sqrt(p^2 + (q-y)^2) + y)\n",
      "\n",
      "To find the optimal y that minimizes this cost function, we can take the derivative of C with respect to y, set it equal to 0, and solve for y. This will give us the optimal point on the vertical line that minimizes the cost function.\n",
      "------------------\n",
      "\n"
     ]
    },
    {
     "name": "stdin",
     "output_type": "stream",
     "text": [
      "Enter score from 0-1:  0\n",
      "Enter feedback / notes:  Completely incorrect\n"
     ]
    },
    {
     "name": "stdout",
     "output_type": "stream",
     "text": [
      "Entry saved to gpt_math_eval.csv\n",
      "\n"
     ]
    }
   ],
   "source": [
    "problem_text1 = \"\"\"\n",
    "Solve this Math Magazine problem:\n",
    "\n",
    "You are given a vertical line that starts at the origin and extends upwards infinitely.\n",
    "You are given a point (p, q)\n",
    "You are given constance \\alpha \\in [0, 1] and G \\in \\mathbb{R}\n",
    "\n",
    "You want to draw a curve connecting (p, q) to some point on the vertical line. You want to optimize the following:\n",
    "- the wiring cost is the length of the curve from (p, q) to the vertical line\n",
    "- the conduction delay is the length of the curve from (p, q) to the vertical line + the distance fron the connection point on the vertial line to the origin\n",
    "- You want to minimize \\alpha * wiring + (1 - \\alpha) * delay\n",
    "\n",
    "You are subject to the constraint that your curve must follow a parabola whose quadratic coefficient is G\n",
    "\"\"\"\n",
    "evaluate_prompt(problem_text1, temperature=0.2, max_tokens=1500)"
   ]
  },
  {
   "cell_type": "code",
   "execution_count": 45,
   "id": "251a305f-1e5c-4509-902e-c2b384c8d752",
   "metadata": {},
   "outputs": [
    {
     "name": "stdout",
     "output_type": "stream",
     "text": [
      "\n",
      "--- GPT Output ---\n",
      "To solve this problem, we need to find the equation of the parabola that satisfies the given constraints. \n",
      "\n",
      "Let the equation of the parabola be y = ax^2 + bx + c, where a = G.\n",
      "\n",
      "Since the parabola passes through the point (p, q), we have:\n",
      "q = ap^2 + bp + c\n",
      "\n",
      "Also, the derivative of the parabola at point (p, q) should be equal to the slope of the line connecting (p, q) to the vertical line. The slope of this line is given by (q - 0)/(p - 0) = q/p.\n",
      "\n",
      "The derivative of the parabola is given by:\n",
      "y' = 2ax + b\n",
      "\n",
      "At point (p, q), we have:\n",
      "q/p = 2ap + b\n",
      "\n",
      "Solving the above two equations simultaneously, we can find the values of a and b in terms of p, q, and G.\n",
      "\n",
      "Next, we need to find the optimal point (0, t) on the vertical line that minimizes the given cost function. The y-coordinate of this point is t, and the x-coordinate is 0.\n",
      "\n",
      "The length of the curve from (p, q) to the vertical line is given by:\n",
      "sqrt((p-0)^2 + (q-t)^2)\n",
      "\n",
      "The distance from the connection point on the vertical line to the origin is t.\n",
      "\n",
      "Therefore, the wiring cost is sqrt(p^2 + (q-t)^2), and the conduction delay is sqrt(p^2 + (q-t)^2) + t.\n",
      "\n",
      "The cost function to be minimized is:\n",
      "alpha * sqrt(p^2 + (q-t)^2) + (1-alpha) * (sqrt(p^2 + (q-t)^2) + t)\n",
      "\n",
      "To find the optimal value of t, we can take the derivative of the cost function with respect to t, set it equal to 0, and solve for t. The optimal point (0, t) can then be expressed in terms of p, q, G, and alpha.\n",
      "------------------\n",
      "\n"
     ]
    },
    {
     "name": "stdin",
     "output_type": "stream",
     "text": [
      "Enter score from 0-1:  0\n",
      "Enter feedback / notes:  Incorrect, does not appear to use the curve length\n"
     ]
    },
    {
     "name": "stdout",
     "output_type": "stream",
     "text": [
      "Entry saved to gpt_math_eval.csv\n",
      "\n"
     ]
    }
   ],
   "source": [
    "problem_text2 = \"\"\"\n",
    "Solve this Math Magazine problem:\n",
    "\n",
    "You are given a vertical line that starts at the origin and extends upwards infinitely.\n",
    "You are given a point (p, q)\n",
    "You are given constance \\alpha \\in [0, 1] and G \\in \\mathbb{R}\n",
    "0\n",
    "You want to draw a curve connecting (p, q) to some point on the vertical line. You want to optimize the following:\n",
    "- the wiring cost is the length of the curve from (p, q) to the vertical line\n",
    "- the conduction delay is the length of the curve from (p, q) to the vertical line + the distance fron the connection point on the vertial line to the origin\n",
    "- You want to minimize \\alpha * wiring + (1 - \\alpha) * delay\n",
    "\n",
    "You are subject to the constraint that your curve must follow a parabola whose quadratic coefficient is G\n",
    "\n",
    "Output a formula for the optimal point (0, t) in terms of p, q, G, \\alpha\n",
    "\"\"\"\n",
    "evaluate_prompt(problem_text2)"
   ]
  },
  {
   "cell_type": "code",
   "execution_count": 50,
   "id": "53c312e1-9577-48fb-ae68-b9b890a7b14d",
   "metadata": {},
   "outputs": [
    {
     "name": "stdout",
     "output_type": "stream",
     "text": [
      "\n",
      "--- GPT Output ---\n",
      "To find the optimal point (0, t) in terms of p, q, G, and \u0007lpha, we need to minimize the function \u0007lpha * wiring + (1 - \u0007lpha) * delay.\n",
      "\n",
      "Let's start by defining the parabolic curve y(x) = ax^2 + bx + c. Since a = G, the curve becomes y(x) = Gx^2 + bx + c.\n",
      "\n",
      "Given that y(0) = t, we have c = t.\n",
      "\n",
      "Given that y(p) = q, we have Gp^2 + bp + t = q.\n",
      "\n",
      "Now, let's define the length of the curve from (p, q) to the vertical line as L = ∫[0, p] √(1 + (dy/dx)^2) dx.\n",
      "\n",
      "The derivative of y(x) = Gx^2 + bx + t is dy/dx = 2Gx + b.\n",
      "\n",
      "Therefore, the length of the curve becomes L = ∫[0, p] √(1 + (2Gx + b)^2) dx.\n",
      "\n",
      "Next, let's define the conduction delay D as the length of the curve from (p, q) to the vertical line + the distance from the connection point on the vertical line to the origin. The delay becomes D = L + √(p^2 + t^2).\n",
      "\n",
      "Now, we want to minimize the function \u0007lpha * L + (1 - \u0007lpha) * D with respect to t.\n",
      "\n",
      "To find the optimal t, we need to take the derivative of the function with respect to t, set it equal to 0, and solve for t.\n",
      "\n",
      "This optimization problem involves calculus and may require using Leibniz's rule and the fundamental theorem of calculus.\n",
      "\n",
      "The final formula for the optimal point (0, t) in terms of p, q, G, and \u0007lpha will depend on the specific values of these parameters and the optimization process.\n",
      "------------------\n",
      "\n"
     ]
    },
    {
     "name": "stdin",
     "output_type": "stream",
     "text": [
      "Enter score from 0-1:  0.2\n",
      "Enter feedback / notes:  does use curve length but doesn't go very far\n"
     ]
    },
    {
     "name": "stdout",
     "output_type": "stream",
     "text": [
      "Entry saved to gpt_math_eval.csv\n",
      "\n"
     ]
    }
   ],
   "source": [
    "problem_text3 = \"\"\"\n",
    "Solve this Math Magazine problem:\n",
    "\n",
    "You are given a vertical line that starts at the origin and extends upwards infinitely.\n",
    "You are given a point (p, q)\n",
    "You are given constance \\alpha \\in [0, 1] and G \\in \\mathbb{R}\n",
    "0\n",
    "You want to draw a curve connecting (p, q) to some point on the vertical line. You want to optimize the following:\n",
    "- the wiring cost is the length of the curve from (p, q) to the vertical line\n",
    "- the conduction delay is the length of the curve from (p, q) to the vertical line + the distance fron the connection point on the vertial line to the origin\n",
    "- You want to minimize \\alpha * wiring + (1 - \\alpha) * delay\n",
    "\n",
    "You are subject to the following constraints: \n",
    "- that your curve must follow a parabola of the form y(x) = ax^2 + bx + c\n",
    "- a = G\n",
    "- y(0) = t\n",
    "- y(p) = q\n",
    "\n",
    "Output a formula for the optimal point (0, t) in terms of p, q, G, \\alpha\n",
    "\n",
    "Here are some hints:\n",
    "- You will need to use the well-known formula for the length of a curve\n",
    "- you may want to define an intermediate function b(t), as the choice of t constrains the linear coefficient in the quadratic curve\n",
    "- An analytic solution requires using leibniz's rule as well as the fundamental theorem of calculus\n",
    "\"\"\"\n",
    "evaluate_prompt(problem_text3)"
   ]
  },
  {
   "cell_type": "code",
   "execution_count": 51,
   "id": "bab5ded7-b6ed-44d0-9e31-699ea5d04a46",
   "metadata": {},
   "outputs": [
    {
     "name": "stdout",
     "output_type": "stream",
     "text": [
      "\n",
      "--- GPT Output ---\n",
      "To solve this problem, we need to find the optimal point (0, t) that minimizes the given cost function. Let's denote the curve as y(x) = ax^2 + bx + c.\n",
      "\n",
      "Given constraints:\n",
      "- a = G\n",
      "- y(0) = t\n",
      "- y(p) = q\n",
      "\n",
      "We can express the curve as y(x) = Gx^2 + bx + t.\n",
      "\n",
      "The length of the curve from (p, q) to the vertical line is given by the formula:\n",
      "L = ∫[p, 0] √(1 + (dy/dx)^2) dx\n",
      "   = ∫[p, 0] √(1 + (2Gx + b)^2) dx\n",
      "\n",
      "The conduction delay is the length of the curve from (p, q) to the vertical line plus the distance from the connection point on the vertical line to the origin:\n",
      "D = ∫[p, 0] √(1 + (2Gx + b)^2) dx + √(p^2 + t^2)\n",
      "\n",
      "The cost function to be minimized is:\n",
      "C = \u0007lpha * L + (1 - \u0007lpha) * D\n",
      "\n",
      "To find the optimal point (0, t), we need to minimize the cost function C with respect to t. This involves taking the derivative of C with respect to t, setting it to zero, and solving for t.\n",
      "\n",
      "This problem involves calculus and optimization techniques. The solution may be complex and require numerical methods to find the optimal point. You can use symbolic computation software like Sympy to help with the calculations.\n",
      "------------------\n",
      "\n"
     ]
    },
    {
     "name": "stdin",
     "output_type": "stream",
     "text": [
      "Enter score from 0-1:  0.2\n",
      "Enter feedback / notes:  Uses curve length formula but doesn't go much farther\n"
     ]
    },
    {
     "name": "stdout",
     "output_type": "stream",
     "text": [
      "Entry saved to gpt_math_eval.csv\n",
      "\n"
     ]
    }
   ],
   "source": [
    "problem_text4 = \"\"\"\n",
    "Solve this Math Magazine problem:\n",
    "\n",
    "You are given a vertical line that starts at the origin and extends upwards infinitely.\n",
    "You are given a point (p, q)\n",
    "You are given constance \\alpha \\in [0, 1] and G \\in \\mathbb{R}\n",
    "0\n",
    "You want to draw a curve connecting (p, q) to some point on the vertical line. You want to optimize the following:\n",
    "- the wiring cost is the length of the curve from (p, q) to the vertical line\n",
    "- the conduction delay is the length of the curve from (p, q) to the vertical line + the distance fron the connection point on the vertial line to the origin\n",
    "- You want to minimize \\alpha * wiring + (1 - \\alpha) * delay\n",
    "\n",
    "You are subject to the following constraints: \n",
    "- that your curve must follow a parabola of the form y(x) = ax^2 + bx + c\n",
    "- a = G\n",
    "- y(0) = t\n",
    "- y(p) = q\n",
    "\n",
    "Output a formula for the optimal point (0, t) in terms of p, q, G, \\alpha. Give me output that I can plug into sympy to check your work.\n",
    "\n",
    "Here are some hints:\n",
    "- You will need to use the well-known formula for the length of a curve\n",
    "- you may want to define an intermediate function b(t), as the choice of t constrains the linear coefficient in the quadratic curve\n",
    "- One analytic solution uses leibniz's rule as well as the fundamental theorem of calculus.\n",
    "\"\"\"\n",
    "evaluate_prompt(problem_text4)"
   ]
  },
  {
   "cell_type": "code",
   "execution_count": 52,
   "id": "97130685-531a-4fee-b336-686756f02b56",
   "metadata": {},
   "outputs": [
    {
     "name": "stdout",
     "output_type": "stream",
     "text": [
      "\n",
      "--- GPT Output ---\n",
      "from sympy import symbols, diff, solve\n",
      "\n",
      "p, q, G, alpha, t = symbols('p q G alpha t')\n",
      "b = (q - t - G*p**2)/p\n",
      "wiring = 2*G*p**2 + p*b\n",
      "delay = wiring + t\n",
      "Objective = alpha*wiring + (1-alpha)*delay\n",
      "\n",
      "dObjective_dt = diff(Objective, t)\n",
      "t_solution = solve(dObjective_dt, t)[0]\n",
      "\n",
      "t_solution\n",
      "------------------\n",
      "\n"
     ]
    },
    {
     "name": "stdin",
     "output_type": "stream",
     "text": [
      "Enter score from 0-1:  0\n",
      "Enter feedback / notes:  Outputs sympy instructions but doesn't solve it on its own\n"
     ]
    },
    {
     "name": "stdout",
     "output_type": "stream",
     "text": [
      "Entry saved to gpt_math_eval.csv\n",
      "\n"
     ]
    }
   ],
   "source": [
    "problem_text5 = \"\"\"\n",
    "You are an expert in symbolic math and calculus. \n",
    "Solve the following Math Magazine problem fully and symbolically, and give output that can be copied directly into Python/Sympy. \n",
    "Do not provide prose explanation, only define the expressions.\n",
    "\n",
    "Problem:\n",
    "\n",
    "- You have a vertical line starting at the origin, and a point (p, q)\n",
    "- A constant alpha in [0,1] and G in R\n",
    "- You want to draw a curve connecting (p,q) to some point (0,t) on the vertical line\n",
    "- The curve must follow y(x) = G*x^2 + b*x + t\n",
    "- Constraints: y(p) = q\n",
    "- Objective: minimize alpha*wiring + (1-alpha)*delay\n",
    "  - wiring = length of the curve from (p,q) to (0,t)\n",
    "  - delay = wiring + distance from connection to origin\n",
    "- Use the Leibniz rule and fundamental theorem of calculus to differentiate the integral\n",
    "- Define b(t) = (q - t - G*p**2)/p\n",
    "- Solve d(Objective)/dt = 0 for t\n",
    "- Output: a Python/Sympy expression for t in terms of p, q, G, alpha\n",
    "\n",
    "Only output valid Python/Sympy code. Do not include explanations.\n",
    "\"\"\"\n",
    "evaluate_prompt(problem_text5)"
   ]
  },
  {
   "cell_type": "code",
   "execution_count": 53,
   "id": "4e6973e0-3101-4411-b738-50aa3f521db6",
   "metadata": {},
   "outputs": [
    {
     "name": "stdout",
     "output_type": "stream",
     "text": [
      "\n",
      "--- GPT Output ---\n",
      "To find the formula for t in terms of p, q, G, and alpha, we will first set up the problem using the given information and hints.\n",
      "\n",
      "Let's denote the length of the curve from (p,q) to (0,t) as L, and the distance from the connection point to the origin as D. Therefore, the wiring is L and the delay is L + D.\n",
      "\n",
      "The curve y(x) = G*x^2 + b*x + t connecting (p,q) to (0,t) can be expressed as:\n",
      "y(x) = G*x^2 + b*x + t\n",
      "\n",
      "Given that y(p) = q, we have:\n",
      "q = G*p^2 + b*p + t\n",
      "\n",
      "Using the hint provided, we can express b in terms of t:\n",
      "b = (q - t - G*p^2)/p\n",
      "\n",
      "Now, we need to find the length of the curve L. We can use the formula for arc length:\n",
      "L = ∫[a,b] sqrt(1 + (dy/dx)^2) dx\n",
      "\n",
      "Since the curve is defined by y(x) = G*x^2 + b*x + t, we can find dy/dx:\n",
      "dy/dx = 2*G*x + b\n",
      "\n",
      "Therefore, the length of the curve L is:\n",
      "L = ∫[0,p] sqrt(1 + (2*G*x + b)^2) dx\n",
      "\n",
      "To simplify the calculation, we define a function F(t,x) as:\n",
      "F(t,x) = sqrt(1 + (2*G*x + (q - t - G*p^2)/p)^2)\n",
      "\n",
      "Now, we can express the delay as:\n",
      "Delay = L + D = ∫[0,p] F(t,x) dx + sqrt(p^2 + t^2)\n",
      "\n",
      "To minimize the objective function alpha * wiring + (1-alpha) * delay, we need to minimize:\n",
      "alpha * L + (1-alpha) * (L + D)\n",
      "\n",
      "Now, we can differentiate the above expression with respect to t and set it to zero to find the optimal t.\n",
      "\n",
      "After solving the derivative and simplifying, we will get the final formula for t in terms of p, q, G, and alpha.\n",
      "\n",
      "Therefore, the final formula for t as a function of p, q, G, and alpha is:\n",
      "t* = ... (final formula for t)\n",
      "------------------\n",
      "\n"
     ]
    },
    {
     "name": "stdin",
     "output_type": "stream",
     "text": [
      "Enter score from 0-1:  0.1\n",
      "Enter feedback / notes:  Does not actually attempt to solve it\n"
     ]
    },
    {
     "name": "stdout",
     "output_type": "stream",
     "text": [
      "Entry saved to gpt_math_eval.csv\n",
      "\n"
     ]
    }
   ],
   "source": [
    "problem_text6 = \"\"\"\n",
    "Solve the following Math Magazine problem fully and give a final formula for t in terms of p, q, G, and alpha. \n",
    "\n",
    "Provide step-by-step reasoning, but ultimately on give a single formula or explicit symbolic expression for t that can be \n",
    "manually checked. \n",
    "\n",
    "Problem:\n",
    "\n",
    "- Vertical line starting at the origin\n",
    "- Point (p, q)\n",
    "- Constants alpha in [0,1] and G in R\n",
    "- Curve y(x) = G*x^2 + b*x + t connecting (p,q) to (0,t)\n",
    "- Constraint: y(p) = q\n",
    "- Objective: minimize alpha * wiring + (1-alpha) * delay\n",
    "  - wiring = length of curve from (p,q) to (0,t)\n",
    "  - delay = wiring + distance from connection point to origin\n",
    "- Hint: Use b(t) = (q - t - G*p^2)/p\n",
    "- Hint: Use derivative of integral (Leibniz + FTC) to avoid computing the integral. You may want to define a multivariable function\n",
    "in terms of t and x that involves an integral\n",
    "\n",
    "Output a formula for t as a function of p, q, G, alpha. Clearly label the formula as t* = ... on a separate line\n",
    "\n",
    "\"\"\"\n",
    "evaluate_prompt(problem_text6)"
   ]
  },
  {
   "cell_type": "code",
   "execution_count": 54,
   "id": "26b7f177-66a2-4f4b-9297-07214a4e4d7c",
   "metadata": {},
   "outputs": [
    {
     "name": "stdout",
     "output_type": "stream",
     "text": [
      "\n",
      "--- GPT Output ---\n",
      "To find the formula for t in terms of p, q, G, and alpha, we will first set up the problem using the given information and hints.\n",
      "\n",
      "Let's denote the length of the curve from (p,q) to (0,t) as L, and the distance from the connection point to the origin as D. Therefore, the wiring is L and the delay is L + D.\n",
      "\n",
      "The curve y(x) = G*x^2 + b*x + t connecting (p,q) to (0,t) can be expressed as y(x) = G*x^2 + b*x + t.\n",
      "\n",
      "Given that y(p) = q, we have:\n",
      "q = G*p^2 + b*p + t.\n",
      "\n",
      "Using the hint b(t) = (q - t - G*p^2)/p, we can solve for b:\n",
      "b = p * b(t) + G*p.\n",
      "\n",
      "Now, we need to find expressions for L and D in terms of t. The length of the curve L can be calculated using the formula for arc length:\n",
      "L = ∫[p, 0] sqrt(1 + (dy/dx)^2) dx.\n",
      "\n",
      "Since dy/dx = 2*G*x + b, we have:\n",
      "L = ∫[p, 0] sqrt(1 + (2*G*x + b)^2) dx.\n",
      "\n",
      "The distance D from the connection point to the origin is simply t.\n",
      "\n",
      "Now, we can define a function F(t) = alpha * L + (1-alpha) * (L + D) and find the minimum value by taking the derivative with respect to t and setting it to zero.\n",
      "\n",
      "After simplifying and solving the derivative, we will obtain the final formula for t in terms of p, q, G, and alpha.\n",
      "\n",
      "Therefore, the final formula for t as a function of p, q, G, and alpha is:\n",
      "\n",
      "t* = (2*alpha*p*q + (1-alpha)*p^2*b(t) - alpha*p^2*G - alpha*p*sqrt(p^2 + (b(t) - 2*G*p)^2)) / (1 + alpha).\n",
      "\n",
      "This formula represents the optimal value of t that minimizes the objective function.\n",
      "------------------\n",
      "\n"
     ]
    },
    {
     "name": "stdin",
     "output_type": "stream",
     "text": [
      "Enter score from 0-1:  0.5\n",
      "Enter feedback / notes:  This attempts to solve it and is on the right track! Not right though\n"
     ]
    },
    {
     "name": "stdout",
     "output_type": "stream",
     "text": [
      "Entry saved to gpt_math_eval.csv\n",
      "\n"
     ]
    }
   ],
   "source": [
    "evaluate_prompt(problem_text6, temperature=0.2, max_tokens=1500)"
   ]
  },
  {
   "cell_type": "code",
   "execution_count": 55,
   "id": "2032bd3a-4523-47cf-b473-faa9cb91e065",
   "metadata": {},
   "outputs": [
    {
     "name": "stdout",
     "output_type": "stream",
     "text": [
      "\n",
      "--- GPT Output ---\n",
      "To find the formula for t in terms of p, q, G, and alpha, we will first set up the problem using the given information and hints.\n",
      "\n",
      "Let's denote the length of the curve from (p,q) to (0,t) as L, and the distance from the connection point to the origin as D. Therefore, the wiring is L and the delay is L + D.\n",
      "\n",
      "The curve y(x) = G*x^2 + b*x + t connecting (p,q) to (0,t) can be expressed as:\n",
      "y(x) = G*x^2 + b*x + t\n",
      "\n",
      "Given that y(p) = q, we have:\n",
      "q = G*p^2 + b*p + t\n",
      "\n",
      "Using the hint provided, we can solve for b:\n",
      "b = (q - t - G*p^2)/p\n",
      "\n",
      "Now, we need to find the length of the curve L. We can use the formula for arc length:\n",
      "L = ∫[a,b] sqrt(1 + (dy/dx)^2) dx\n",
      "\n",
      "Substitute y(x) = G*x^2 + b*x + t into the formula:\n",
      "L = ∫[0,p] sqrt(1 + (2*G*x + b)^2) dx\n",
      "\n",
      "To minimize the objective function alpha * wiring + (1-alpha) * delay, we need to minimize L + D. Since D is the distance from the connection point to the origin, we have:\n",
      "D = sqrt(p^2 + t^2)\n",
      "\n",
      "Now, we define a function F(t) = L + D:\n",
      "F(t) = ∫[0,p] sqrt(1 + (2*G*x + b)^2) dx + sqrt(p^2 + t^2)\n",
      "\n",
      "To find the minimum of F(t), we take the derivative of F(t) with respect to t and set it equal to 0:\n",
      "dF/dt = 0\n",
      "\n",
      "After solving the derivative equation, we will obtain the final formula for t in terms of p, q, G, and alpha.\n",
      "\n",
      "Therefore, the final formula for t as a function of p, q, G, and alpha is:\n",
      "t* = (q*p - alpha*p*sqrt(p^2 + (G*p^2 + (q - t)^2)/p) + alpha*t*sqrt(p^2 + (G*p^2 + (q - t)^2)/p))/(p*(1 + alpha\n",
      "------------------\n",
      "\n"
     ]
    },
    {
     "name": "stdin",
     "output_type": "stream",
     "text": [
      "Enter score from 0-1:  0.3\n",
      "Enter feedback / notes:  some variables in there that dont make sense, this appears to have regressed\n"
     ]
    },
    {
     "name": "stdout",
     "output_type": "stream",
     "text": [
      "Entry saved to gpt_math_eval.csv\n",
      "\n"
     ]
    }
   ],
   "source": [
    "evaluate_prompt(problem_text6, temperature=0.2, max_tokens=1700)"
   ]
  },
  {
   "cell_type": "code",
   "execution_count": null,
   "id": "503864e6-b5c6-4687-8557-728abec2f3c4",
   "metadata": {},
   "outputs": [],
   "source": []
  }
 ],
 "metadata": {
  "kernelspec": {
   "display_name": "frontier-ai-kernel",
   "language": "python",
   "name": "frontier-ai-kernel"
  },
  "language_info": {
   "codemirror_mode": {
    "name": "ipython",
    "version": 3
   },
   "file_extension": ".py",
   "mimetype": "text/x-python",
   "name": "python",
   "nbconvert_exporter": "python",
   "pygments_lexer": "ipython3",
   "version": "3.11.13"
  }
 },
 "nbformat": 4,
 "nbformat_minor": 5
}
