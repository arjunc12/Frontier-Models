{
 "cells": [
  {
   "cell_type": "code",
   "execution_count": 1,
   "id": "762379ad-f8c2-4b16-9c7a-5189db2da1a1",
   "metadata": {},
   "outputs": [
    {
     "name": "stdout",
     "output_type": "stream",
     "text": [
      "Python version: 3.11.13 (main, Jun  5 2025, 08:21:08) [Clang 14.0.6 ]\n",
      "pandas version: 2.2.3\n",
      "sympy version: 1.14.0\n",
      "openai version: 1.109.1\n"
     ]
    }
   ],
   "source": [
    "import sys\n",
    "print(\"Python version:\", sys.version)\n",
    "\n",
    "import pandas as pd\n",
    "import sympy\n",
    "import openai\n",
    "\n",
    "print(\"pandas version:\", pd.__version__)\n",
    "print(\"sympy version:\", sympy.__version__)\n",
    "print(\"openai version:\", openai.__version__)"
   ]
  },
  {
   "cell_type": "code",
   "execution_count": 2,
   "id": "ea368c90-026a-45db-be5b-675e239e685c",
   "metadata": {},
   "outputs": [
    {
     "name": "stdout",
     "output_type": "stream",
     "text": [
      "Artificial minds,\n",
      "Computing with lightning speed,\n",
      "AI's future bright.\n"
     ]
    }
   ],
   "source": [
    "from openai import OpenAI\n",
    "import os\n",
    "\n",
    "client = OpenAI(api_key=os.getenv(\"OPENAI_API_KEY\"))\n",
    "\n",
    "response = client.responses.create(\n",
    "  model=\"gpt-3.5-turbo\",\n",
    "  input=\"write a haiku about ai\",\n",
    "  store=True,\n",
    ")\n",
    "\n",
    "print(response.output_text);"
   ]
  },
  {
   "cell_type": "code",
   "execution_count": 3,
   "id": "0d89cc88-6787-487a-8810-002bd9137f89",
   "metadata": {},
   "outputs": [],
   "source": [
    "problem_text1 = \"\"\"\n",
    "Solve this Math Magazine problem:\n",
    "\n",
    "You are given a vertical line that starts at the origin and extends upwards infinitely.\n",
    "You are given a point (p, q)\n",
    "You are given constance \\alpha \\in [0, 1] and G \\in \\mathbb{R}\n",
    "\n",
    "You want to draw a curve connecting (p, q) to some point on the vertical line. You want to optimize the following:\n",
    "- the wiring cost is the length of the curve from (p, q) to the vertical line\n",
    "- the conduction delay is the length of the curve from (p, q) to the vertical line + the distance fron the connection point on the vertial line to the origin\n",
    "- You want to minimize \\alpha * wiring + (1 - \\alpha) * delay\n",
    "\n",
    "You are subject to the constraint that your curve must follow a parabola whose quadratic coefficient is G\n",
    "\"\"\""
   ]
  },
  {
   "cell_type": "code",
   "execution_count": 6,
   "id": "ded10a16-8bf4-4df7-aa9c-f0b2d6b257cc",
   "metadata": {},
   "outputs": [],
   "source": [
    "try:\n",
    "    response = client.chat.completions.create(\n",
    "        model=\"gpt-3.5-turbo\",  # start with GPT-3.5 for testing\n",
    "        messages=[{\"role\": \"user\", \"content\": problem_text1}],\n",
    "        temperature=0,           # deterministic output\n",
    "        max_tokens=500           # adjust for expected solution length\n",
    "    )\n",
    "    model_output = response.choices[0].message.content\n",
    "except Exception as e:\n",
    "    model_output = f\"Error: {e}\""
   ]
  },
  {
   "cell_type": "code",
   "execution_count": 7,
   "id": "065334b4-907c-48bf-b1cf-e5b829b2ccf7",
   "metadata": {},
   "outputs": [
    {
     "data": {
      "text/plain": [
       "\"To solve this problem, we can first parameterize the curve using the equation of a parabola:\\n\\ny = ax^2 + bx + c\\n\\nSince the curve must pass through the point (p, q), we have the following equations:\\n\\nq = ap^2 + bp + c\\n0 = a(0)^2 + b(0) + c\\n\\nFrom the second equation, we get c = 0. Substituting this into the first equation, we get:\\n\\nq = ap^2 + bp\\n\\nNow, we need to find the point on the vertical line that minimizes the cost function. Let's denote this point as (0, y). The distance from (p, q) to (0, y) is given by:\\n\\ndistance = sqrt((p-0)^2 + (q-y)^2)\\n         = sqrt(p^2 + (q-y)^2)\\n\\nThe distance from (0, y) to the origin is simply y. Therefore, the conduction delay is:\\n\\ndelay = sqrt(p^2 + (q-y)^2) + y\\n\\nThe wiring cost is just the distance from (p, q) to (0, y), which is:\\n\\nwiring = sqrt(p^2 + (q-y)^2)\\n\\nNow, we can write the cost function as:\\n\\ncost = alpha * wiring + (1-alpha) * delay\\n     = alpha * sqrt(p^2 + (q-y)^2) + (1-alpha) * (sqrt(p^2 + (q-y)^2) + y)\\n\\nTo minimize this cost function, we can take the derivative with respect to y and set it equal to 0:\\n\\nd(cost)/dy = 0\\n\\nSolving this equation will give us the optimal value of y, which will minimize the cost function.\""
      ]
     },
     "execution_count": 7,
     "metadata": {},
     "output_type": "execute_result"
    }
   ],
   "source": [
    "model_output"
   ]
  },
  {
   "cell_type": "code",
   "execution_count": 9,
   "id": "5ce930a6-5138-45e0-88a0-0dd7701246e7",
   "metadata": {},
   "outputs": [
    {
     "name": "stdout",
     "output_type": "stream",
     "text": [
      "Results saved to gpt_math_eval_one_prompt.csv\n"
     ]
    },
    {
     "data": {
      "text/html": [
       "<div>\n",
       "<style scoped>\n",
       "    .dataframe tbody tr th:only-of-type {\n",
       "        vertical-align: middle;\n",
       "    }\n",
       "\n",
       "    .dataframe tbody tr th {\n",
       "        vertical-align: top;\n",
       "    }\n",
       "\n",
       "    .dataframe thead th {\n",
       "        text-align: right;\n",
       "    }\n",
       "</style>\n",
       "<table border=\"1\" class=\"dataframe\">\n",
       "  <thead>\n",
       "    <tr style=\"text-align: right;\">\n",
       "      <th></th>\n",
       "      <th>prompt_text</th>\n",
       "      <th>model_output</th>\n",
       "      <th>score</th>\n",
       "      <th>notes</th>\n",
       "    </tr>\n",
       "  </thead>\n",
       "  <tbody>\n",
       "    <tr>\n",
       "      <th>0</th>\n",
       "      <td>\\nSolve this Math Magazine problem:\\n\\nYou are...</td>\n",
       "      <td>To solve this problem, we can first parameteri...</td>\n",
       "      <td>0</td>\n",
       "      <td>describes approach but does not solve the problem</td>\n",
       "    </tr>\n",
       "  </tbody>\n",
       "</table>\n",
       "</div>"
      ],
      "text/plain": [
       "                                         prompt_text  \\\n",
       "0  \\nSolve this Math Magazine problem:\\n\\nYou are...   \n",
       "\n",
       "                                        model_output  score  \\\n",
       "0  To solve this problem, we can first parameteri...      0   \n",
       "\n",
       "                                               notes  \n",
       "0  describes approach but does not solve the problem  "
      ]
     },
     "execution_count": 9,
     "metadata": {},
     "output_type": "execute_result"
    }
   ],
   "source": [
    "df = pd.DataFrame([{\n",
    "    \"prompt_text\": problem_text1,\n",
    "    \"model_output\": model_output,\n",
    "    \"score\": 0,   # Fill manually: \"Correct\", \"Partial\", \"Incorrect\"\n",
    "    \"notes\": \"describes approach but does not solve the problem\"    # Optional: reasoning errors, hallucinations\n",
    "}])\n",
    "\n",
    "output_file = \"gpt_math_eval.csv\"\n",
    "df.to_csv(output_file, index=False)\n",
    "print(f\"Results saved to {output_file}\")\n",
    "\n",
    "# ----------------------------\n",
    "# 6. Display table\n",
    "# ----------------------------\n",
    "df"
   ]
  },
  {
   "cell_type": "code",
   "execution_count": 20,
   "id": "b6fcd9ea-d7bf-4ddb-b038-0ce07b3b775d",
   "metadata": {},
   "outputs": [],
   "source": [
    "TEMPERATURE = 0.1\n",
    "MAX_TOKENS = 1000"
   ]
  },
  {
   "cell_type": "code",
   "execution_count": 21,
   "id": "466d458a-efdd-4805-907f-ae607a8a209c",
   "metadata": {},
   "outputs": [],
   "source": [
    "def evaluate_prompt(prompt_text, temperature=TEMPERATURE, max_tokens=MAX_TOKENS):\n",
    "    \"\"\"\n",
    "    Runs a prompt through GPT, prints output, asks for manual score & feedback (0/0.5/1),\n",
    "    and appends a row to a CSV file.\n",
    "    \"\"\"\n",
    "    # Run GPT\n",
    "    try:\n",
    "        response = client.chat.completions.create(\n",
    "            model=\"gpt-3.5-turbo\",\n",
    "            messages=[{\"role\": \"user\", \"content\": prompt_text}],\n",
    "            temperature=0,\n",
    "            max_tokens=500\n",
    "        )\n",
    "        model_output = response.choices[0].message.content\n",
    "    except Exception as e:\n",
    "        model_output = f\"Error: {e}\"\n",
    "\n",
    "    # Print the output\n",
    "    print(\"\\n--- GPT Output ---\")\n",
    "    print(model_output)\n",
    "    print(\"------------------\\n\")\n",
    "\n",
    "    # Ask for score\n",
    "    valid_scores = [\"0\", \"0.5\", \"1\"]\n",
    "    score = None\n",
    "    while score not in valid_scores:\n",
    "        score = input(\"Enter score (0 / 0.5 / 1): \").strip()\n",
    "        if score not in valid_scores:\n",
    "            print(\"Invalid score. Please enter 0, 0.5, or 1.\")\n",
    "\n",
    "    # Ask for feedback\n",
    "    feedback = input(\"Enter feedback / notes: \").strip()\n",
    "\n",
    "    # Append to CSV\n",
    "    df_new = pd.DataFrame([{\n",
    "        \"prompt_text\": prompt_text,\n",
    "        \"model_output\": model_output,\n",
    "        \"score\": float(score),\n",
    "        \"feedback\": feedback\n",
    "    }])\n",
    "    \n",
    "    output_file = \"gpt_math_eval.csv\"\n",
    "    df_new.to_csv(output_file, mode='a', header=False, index=False)\n",
    "    print(f\"Entry saved to {output_file}\\n\")"
   ]
  },
  {
   "cell_type": "code",
   "execution_count": 14,
   "id": "251a305f-1e5c-4509-902e-c2b384c8d752",
   "metadata": {},
   "outputs": [],
   "source": [
    "problem_text2 = \"\"\"\n",
    "Solve this Math Magazine problem:\n",
    "\n",
    "You are given a vertical line that starts at the origin and extends upwards infinitely.\n",
    "You are given a point (p, q)\n",
    "You are given constance \\alpha \\in [0, 1] and G \\in \\mathbb{R}\n",
    "0\n",
    "You want to draw a curve connecting (p, q) to some point on the vertical line. You want to optimize the following:\n",
    "- the wiring cost is the length of the curve from (p, q) to the vertical line\n",
    "- the conduction delay is the length of the curve from (p, q) to the vertical line + the distance fron the connection point on the vertial line to the origin\n",
    "- You want to minimize \\alpha * wiring + (1 - \\alpha) * delay\n",
    "\n",
    "You are subject to the constraint that your curve must follow a parabola whose quadratic coefficient is G\n",
    "\n",
    "Output a formula for the optimal point (0, t) in terms of p, q, G, \\alpha\n",
    "\"\"\""
   ]
  },
  {
   "cell_type": "code",
   "execution_count": 15,
   "id": "9042031b-b00e-4947-b41e-5c3070a412e7",
   "metadata": {},
   "outputs": [
    {
     "name": "stdout",
     "output_type": "stream",
     "text": [
      "\n",
      "--- GPT Output ---\n",
      "To solve this problem, we need to find the equation of the parabola that satisfies the given constraints. \n",
      "\n",
      "Let the equation of the parabola be y = ax^2 + bx + c, where a = G, b = 0 (since the parabola is symmetric about the y-axis), and c is the y-intercept. \n",
      "\n",
      "Since the parabola passes through the point (p, q), we have q = ap^2 + c. \n",
      "\n",
      "Also, the derivative of the parabola at point (p, q) should be equal to the slope of the line connecting (p, q) to the vertical line. \n",
      "\n",
      "The slope of the line connecting (p, q) to the vertical line is given by (q - t)/(p - 0) = (q - t)/p. \n",
      "\n",
      "The derivative of the parabola at point (p, q) is given by 2ap. \n",
      "\n",
      "Setting these two equal, we get 2ap = (q - t)/p. \n",
      "\n",
      "Solving for t, we get t = q - 2ap^2. \n",
      "\n",
      "Therefore, the optimal point (0, t) in terms of p, q, G, and \u0007lpha is (0, q - 2a*p^2), where a = G.\n",
      "------------------\n",
      "\n"
     ]
    },
    {
     "name": "stdin",
     "output_type": "stream",
     "text": [
      "Enter score (0 / 0.5 / 1):  0\n",
      "Enter feedback / notes:  Wrongly assumes b = 0 instead of solving for b. appears to assume a line? Alpha is not part of the solution\n"
     ]
    },
    {
     "name": "stdout",
     "output_type": "stream",
     "text": [
      "Entry saved to gpt_math_eval_one_prompt.csv\n",
      "\n"
     ]
    }
   ],
   "source": [
    "evaluate_prompt(problem_text2)"
   ]
  },
  {
   "cell_type": "code",
   "execution_count": 18,
   "id": "53c312e1-9577-48fb-ae68-b9b890a7b14d",
   "metadata": {},
   "outputs": [],
   "source": [
    "problem_text3 = \"\"\"\n",
    "Solve this Math Magazine problem:\n",
    "\n",
    "You are given a vertical line that starts at the origin and extends upwards infinitely.\n",
    "You are given a point (p, q)\n",
    "You are given constance \\alpha \\in [0, 1] and G \\in \\mathbb{R}\n",
    "0\n",
    "You want to draw a curve connecting (p, q) to some point on the vertical line. You want to optimize the following:\n",
    "- the wiring cost is the length of the curve from (p, q) to the vertical line\n",
    "- the conduction delay is the length of the curve from (p, q) to the vertical line + the distance fron the connection point on the vertial line to the origin\n",
    "- You want to minimize \\alpha * wiring + (1 - \\alpha) * delay\n",
    "\n",
    "You are subject to the following constraints: \n",
    "- that your curve must follow a parabola of the form y(x) = ax^2 + bx + c\n",
    "- a = G\n",
    "- y(0) = t\n",
    "- y(p) = q\n",
    "\n",
    "Output a formula for the optimal point (0, t) in terms of p, q, G, \\alpha\n",
    "\n",
    "Here are some hints:\n",
    "- You will need to use the well-known formula for the length of a curve\n",
    "- you may want to define an intermediate function b(t), as the choice of t constrains the linear coefficient in the quadratic curve\n",
    "- An analytic solution requires using leibniz's rule as well as the fundamental theorem of calculus\n",
    "\"\"\""
   ]
  },
  {
   "cell_type": "code",
   "execution_count": 19,
   "id": "e500d5d3-e53b-42c5-8e30-93e12032f60c",
   "metadata": {},
   "outputs": [
    {
     "name": "stdout",
     "output_type": "stream",
     "text": [
      "\n",
      "--- GPT Output ---\n",
      "To find the optimal point (0, t) in terms of p, q, G, and \u0007lpha, we need to minimize the function \u0007lpha * wiring + (1 - \u0007lpha) * delay.\n",
      "\n",
      "Let's start by defining the parabolic curve y(x) = ax^2 + bx + c. Since a = G, the curve becomes y(x) = Gx^2 + bx + c.\n",
      "\n",
      "Given that y(0) = t, we have c = t.\n",
      "\n",
      "Given that y(p) = q, we have Gp^2 + bp + t = q.\n",
      "\n",
      "Now, let's define the length of the curve from (p, q) to the vertical line as L = ∫[0, p] √(1 + (dy/dx)^2) dx.\n",
      "\n",
      "The derivative of y(x) = Gx^2 + bx + t is dy/dx = 2Gx + b.\n",
      "\n",
      "Therefore, the length L becomes L = ∫[0, p] √(1 + (2Gx + b)^2) dx.\n",
      "\n",
      "Next, let's define the conduction delay D as the length of the curve from (p, q) to the vertical line plus the distance from the connection point on the vertical line to the origin. Therefore, D = L + √(p^2 + t^2).\n",
      "\n",
      "Now, we want to minimize \u0007lpha * L + (1 - \u0007lpha) * D with respect to t.\n",
      "\n",
      "To find the optimal t, we need to take the derivative of the above expression with respect to t, set it equal to 0, and solve for t.\n",
      "\n",
      "This optimization problem involves calculus and may require using Leibniz's rule and the fundamental theorem of calculus.\n",
      "\n",
      "The final formula for the optimal point (0, t) in terms of p, q, G, and \u0007lpha will depend on the specific values of these parameters and the solution to the optimization problem.\n",
      "------------------\n",
      "\n"
     ]
    },
    {
     "name": "stdin",
     "output_type": "stream",
     "text": [
      "Enter score (0 / 0.5 / 1):  0\n",
      "Enter feedback / notes:  Does not attempt to solve it\n"
     ]
    },
    {
     "name": "stdout",
     "output_type": "stream",
     "text": [
      "Entry saved to gpt_math_eval.csv\n",
      "\n"
     ]
    }
   ],
   "source": [
    "evaluate_prompt(problem_text3)"
   ]
  },
  {
   "cell_type": "code",
   "execution_count": 22,
   "id": "bab5ded7-b6ed-44d0-9e31-699ea5d04a46",
   "metadata": {},
   "outputs": [],
   "source": [
    "problem_text4 = \"\"\"\n",
    "Solve this Math Magazine problem:\n",
    "\n",
    "You are given a vertical line that starts at the origin and extends upwards infinitely.\n",
    "You are given a point (p, q)\n",
    "You are given constance \\alpha \\in [0, 1] and G \\in \\mathbb{R}\n",
    "0\n",
    "You want to draw a curve connecting (p, q) to some point on the vertical line. You want to optimize the following:\n",
    "- the wiring cost is the length of the curve from (p, q) to the vertical line\n",
    "- the conduction delay is the length of the curve from (p, q) to the vertical line + the distance fron the connection point on the vertial line to the origin\n",
    "- You want to minimize \\alpha * wiring + (1 - \\alpha) * delay\n",
    "\n",
    "You are subject to the following constraints: \n",
    "- that your curve must follow a parabola of the form y(x) = ax^2 + bx + c\n",
    "- a = G\n",
    "- y(0) = t\n",
    "- y(p) = q\n",
    "\n",
    "Output a formula for the optimal point (0, t) in terms of p, q, G, \\alpha. Give me output that I can plug into sympy to check your work.\n",
    "\n",
    "Here are some hints:\n",
    "- You will need to use the well-known formula for the length of a curve\n",
    "- you may want to define an intermediate function b(t), as the choice of t constrains the linear coefficient in the quadratic curve\n",
    "- One analytic solution uses leibniz's rule as well as the fundamental theorem of calculus.\n",
    "\"\"\""
   ]
  },
  {
   "cell_type": "code",
   "execution_count": 23,
   "id": "657fa9aa-d942-40b4-ae2e-8abe5ebce507",
   "metadata": {},
   "outputs": [
    {
     "name": "stdout",
     "output_type": "stream",
     "text": [
      "\n",
      "--- GPT Output ---\n",
      "To solve this problem, we need to find the optimal point (0, t) on the vertical line that minimizes the given cost function. Let's denote the curve as y(x) = ax^2 + bx + c.\n",
      "\n",
      "Given constraints:\n",
      "- a = G\n",
      "- y(0) = t\n",
      "- y(p) = q\n",
      "\n",
      "We can substitute these constraints into the equation of the curve to get:\n",
      "c = t\n",
      "Gp^2 + bp + t = q\n",
      "\n",
      "Now, we need to find the optimal value of t that minimizes the cost function. The cost function is given by:\n",
      "Cost = \u0007lpha * wiring + (1 - \u0007lpha) * delay\n",
      "\n",
      "The wiring cost is the length of the curve from (p, q) to the vertical line, which can be calculated using the formula for the length of a curve:\n",
      "wiring = ∫[p, 0] √(1 + (dy/dx)^2) dx\n",
      "\n",
      "The conduction delay is the length of the curve from (p, q) to the vertical line plus the distance from the connection point on the vertical line to the origin:\n",
      "delay = ∫[p, 0] √(1 + (dy/dx)^2) dx + √(p^2 + t^2)\n",
      "\n",
      "To find the optimal value of t, we need to minimize the cost function by taking the derivative of the cost function with respect to t and setting it to zero. This will give us the optimal value of t.\n",
      "\n",
      "I recommend using symbolic computation software like Sympy to solve this problem as it involves calculus and optimization techniques. You can plug in the equations and constraints provided above into Sympy to find the optimal point (0, t) in terms of p, q, G, and \u0007lpha.\n",
      "------------------\n",
      "\n"
     ]
    },
    {
     "name": "stdin",
     "output_type": "stream",
     "text": [
      "Enter score (0 / 0.5 / 1):  0\n",
      "Enter feedback / notes:  still does not attempt to solve it on its own\n"
     ]
    },
    {
     "name": "stdout",
     "output_type": "stream",
     "text": [
      "Entry saved to gpt_math_eval.csv\n",
      "\n"
     ]
    }
   ],
   "source": [
    "evaluate_prompt(problem_text4)"
   ]
  },
  {
   "cell_type": "code",
   "execution_count": 24,
   "id": "97130685-531a-4fee-b336-686756f02b56",
   "metadata": {},
   "outputs": [],
   "source": [
    "problem_text5 = \"\"\"\n",
    "You are an expert in symbolic math and calculus. \n",
    "Solve the following Math Magazine problem fully and symbolically, and give output that can be copied directly into Python/Sympy. \n",
    "Do not provide prose explanation, only define the expressions.\n",
    "\n",
    "Problem:\n",
    "\n",
    "- You have a vertical line starting at the origin, and a point (p, q)\n",
    "- A constant alpha in [0,1] and G in R\n",
    "- You want to draw a curve connecting (p,q) to some point (0,t) on the vertical line\n",
    "- The curve must follow y(x) = G*x^2 + b*x + t\n",
    "- Constraints: y(p) = q\n",
    "- Objective: minimize alpha*wiring + (1-alpha)*delay\n",
    "  - wiring = length of the curve from (p,q) to (0,t)\n",
    "  - delay = wiring + distance from connection to origin\n",
    "- Use the Leibniz rule and fundamental theorem of calculus to differentiate the integral\n",
    "- Define b(t) = (q - t - G*p**2)/p\n",
    "- Solve d(Objective)/dt = 0 for t\n",
    "- Output: a Python/Sympy expression for t in terms of p, q, G, alpha\n",
    "\n",
    "Only output valid Python/Sympy code. Do not include explanations.\n",
    "\"\"\""
   ]
  },
  {
   "cell_type": "code",
   "execution_count": 25,
   "id": "2a5fcc80-3607-439c-9e2f-ca37e6b721d9",
   "metadata": {},
   "outputs": [
    {
     "name": "stdout",
     "output_type": "stream",
     "text": [
      "\n",
      "--- GPT Output ---\n",
      "from sympy import symbols, diff, solve\n",
      "\n",
      "p, q, G, alpha, t = symbols('p q G alpha t')\n",
      "b = (q - t - G*p**2)/p\n",
      "wiring = 2*G*p**2 + p*t\n",
      "delay = wiring + t\n",
      "Objective = alpha*wiring + (1-alpha)*delay\n",
      "\n",
      "dObjective_dt = diff(Objective, t)\n",
      "t_solution = solve(dObjective_dt, t)[0]\n",
      "\n",
      "t_solution\n",
      "------------------\n",
      "\n"
     ]
    },
    {
     "name": "stdin",
     "output_type": "stream",
     "text": [
      "Enter score (0 / 0.5 / 1):  0\n",
      "Enter feedback / notes:  doesn't give its solution\n"
     ]
    },
    {
     "name": "stdout",
     "output_type": "stream",
     "text": [
      "Entry saved to gpt_math_eval.csv\n",
      "\n"
     ]
    }
   ],
   "source": [
    "evaluate_prompt(problem_text5)"
   ]
  },
  {
   "cell_type": "code",
   "execution_count": null,
   "id": "4e6973e0-3101-4411-b738-50aa3f521db6",
   "metadata": {},
   "outputs": [],
   "source": []
  }
 ],
 "metadata": {
  "kernelspec": {
   "display_name": "frontier-ai-kernel",
   "language": "python",
   "name": "frontier-ai-kernel"
  },
  "language_info": {
   "codemirror_mode": {
    "name": "ipython",
    "version": 3
   },
   "file_extension": ".py",
   "mimetype": "text/x-python",
   "name": "python",
   "nbconvert_exporter": "python",
   "pygments_lexer": "ipython3",
   "version": "3.11.13"
  }
 },
 "nbformat": 4,
 "nbformat_minor": 5
}
